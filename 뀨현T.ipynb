{
  "nbformat": 4,
  "nbformat_minor": 0,
  "metadata": {
    "colab": {
      "name": "뀨현T.ipynb",
      "provenance": [],
      "include_colab_link": true
    },
    "kernelspec": {
      "name": "python3",
      "display_name": "Python 3"
    }
  },
  "cells": [
    {
      "cell_type": "markdown",
      "metadata": {
        "id": "view-in-github",
        "colab_type": "text"
      },
      "source": [
        "<a href=\"https://colab.research.google.com/github/jangmii/jangmi.github.io/blob/master/%EB%80%A8%ED%98%84T.ipynb\" target=\"_parent\"><img src=\"https://colab.research.google.com/assets/colab-badge.svg\" alt=\"Open In Colab\"/></a>"
      ]
    },
    {
      "cell_type": "code",
      "metadata": {
        "id": "atY87EESq5an",
        "colab_type": "code",
        "colab": {
          "base_uri": "https://localhost:8080/",
          "height": 52
        },
        "outputId": "a8da7d08-7f84-4717-95ee-b9df09ffdb47"
      },
      "source": [
        "#1~2: 3(4),5(35)\n",
        "sum = 0\n",
        "for m in range(5):\n",
        "   for n in range(m + 1):\n",
        "      sum = sum + (n + 1)\n",
        "print(n)\n",
        "print(sum)\n"
      ],
      "execution_count": 1,
      "outputs": [
        {
          "output_type": "stream",
          "text": [
            "4\n",
            "35\n"
          ],
          "name": "stdout"
        }
      ]
    },
    {
      "cell_type": "code",
      "metadata": {
        "id": "_qxx2M1arJU4",
        "colab_type": "code",
        "colab": {
          "base_uri": "https://localhost:8080/",
          "height": 88
        },
        "outputId": "5a50d184-d118-4883-ad35-002f7bb1a01d"
      },
      "source": [
        "#3: 1(4개)\n",
        "count = 0\n",
        "i = 1\n",
        "while count < 5:\n",
        "   while i < 5:\n",
        "      print(\"*\")\n",
        "      i = i + 1\n",
        "   count = count + 1\n"
      ],
      "execution_count": 3,
      "outputs": [
        {
          "output_type": "stream",
          "text": [
            "*\n",
            "*\n",
            "*\n",
            "*\n"
          ],
          "name": "stdout"
        }
      ]
    },
    {
      "cell_type": "code",
      "metadata": {
        "id": "9e_PW1EgrbdH",
        "colab_type": "code",
        "colab": {
          "base_uri": "https://localhost:8080/",
          "height": 52
        },
        "outputId": "a6852fa6-3021-47fc-b5b2-76d1ba957c9d"
      },
      "source": [
        "#4: 2(20)\n",
        "data = [10, 20, 30, 40, 50]\n",
        "for i in data:\n",
        "  if i == 30:\n",
        "    break\n",
        "  print(i)"
      ],
      "execution_count": 15,
      "outputs": [
        {
          "output_type": "stream",
          "text": [
            "10\n",
            "20\n"
          ],
          "name": "stdout"
        }
      ]
    },
    {
      "cell_type": "code",
      "metadata": {
        "id": "mMCJLIowrolm",
        "colab_type": "code",
        "colab": {
          "base_uri": "https://localhost:8080/",
          "height": 52
        },
        "outputId": "0903ef94-d2bd-4dee-eca2-93139b404c5c"
      },
      "source": [
        "#5~6: 2(B),2(B)\n",
        "score=int(input(\"점수를 입력하세요:\"))\n",
        "if score>=80:\n",
        "    print(\"B\")\n",
        "elif score>=90:\n",
        "    print(\"A\")\n",
        "elif score >= 70:\n",
        "    print(\"C\")\n",
        "elif score >= 60:\n",
        "    print(\"D\")\n",
        "else:\n",
        "    print(\"F\")\n"
      ],
      "execution_count": 12,
      "outputs": [
        {
          "output_type": "stream",
          "text": [
            "점수를 입력하세요:85\n",
            "B\n"
          ],
          "name": "stdout"
        }
      ]
    },
    {
      "cell_type": "code",
      "metadata": {
        "id": "MXnu4MZOrpMg",
        "colab_type": "code",
        "colab": {
          "base_uri": "https://localhost:8080/",
          "height": 52
        },
        "outputId": "dc70d608-bb2a-4abb-e891-92d9e9c6d23b"
      },
      "source": [
        "#7~8: 2(b), 3(['c',4])\n",
        "data=[[\"a\",1],[\"b\",2],[\"c\",3]]\n",
        "for i in data:\n",
        "    i[1]=i[1]+1\n",
        "print(data[1][0])\n",
        "print(data[2])\n"
      ],
      "execution_count": 16,
      "outputs": [
        {
          "output_type": "stream",
          "text": [
            "b\n",
            "['c', 4]\n"
          ],
          "name": "stdout"
        }
      ]
    },
    {
      "cell_type": "code",
      "metadata": {
        "id": "1XMkz9KorpZA",
        "colab_type": "code",
        "colab": {
          "base_uri": "https://localhost:8080/",
          "height": 35
        },
        "outputId": "6cc12d11-bf49-4ee9-f6e8-ef733d53ec7b"
      },
      "source": [
        "#9: 5(11)\n",
        "count1=0\n",
        "count2=0\n",
        "count3=0\n",
        "for i in range(0,7):\n",
        "    count1=i+1\n",
        "    if i==3:\n",
        "        count2 = i + 1\n",
        "        break\n",
        "    count3=i+1\n",
        "\n",
        "sum=count1+count2+count3\n",
        "print(sum)\n"
      ],
      "execution_count": 17,
      "outputs": [
        {
          "output_type": "stream",
          "text": [
            "11\n"
          ],
          "name": "stdout"
        }
      ]
    },
    {
      "cell_type": "code",
      "metadata": {
        "id": "P36z5OIRrpjU",
        "colab_type": "code",
        "colab": {
          "base_uri": "https://localhost:8080/",
          "height": 35
        },
        "outputId": "6acd44af-7609-4fc0-b04e-b1e9b528b3a6"
      },
      "source": [
        "#10:2(20)\n",
        "flag=10\n",
        "sum=0\n",
        "while flag:\n",
        "    sum=sum+1\n",
        "    if sum>10:\n",
        "        flag=flag-2\n",
        "        sum=sum+1\n",
        "print(sum)"
      ],
      "execution_count": 21,
      "outputs": [
        {
          "output_type": "stream",
          "text": [
            "20\n"
          ],
          "name": "stdout"
        }
      ]
    },
    {
      "cell_type": "code",
      "metadata": {
        "id": "RGgaBoNeskne",
        "colab_type": "code",
        "colab": {
          "base_uri": "https://localhost:8080/",
          "height": 88
        },
        "outputId": "e8fa544a-cc37-49d3-8e16-ab5e2df1f149"
      },
      "source": [
        "#11~12: 5(F), 2,3,4(B,C,D)\n",
        "score=int(input(\"숫자를 입력하세요:\"))\n",
        "if score>=80:\n",
        "    print(\"B\")\n",
        "if score>=90:\n",
        "    print(\"A\")\n",
        "if score >= 70:\n",
        "    print(\"C\")\n",
        "if score >= 60:\n",
        "    print(\"D\")\n",
        "else:\n",
        "    print(\"F\")\n"
      ],
      "execution_count": 23,
      "outputs": [
        {
          "output_type": "stream",
          "text": [
            "숫자를 입력하세요:85\n",
            "B\n",
            "C\n",
            "D\n"
          ],
          "name": "stdout"
        }
      ]
    },
    {
      "cell_type": "code",
      "metadata": {
        "id": "HLQG86W1sk3R",
        "colab_type": "code",
        "colab": {
          "base_uri": "https://localhost:8080/",
          "height": 52
        },
        "outputId": "17066102-59c8-4f3f-b938-1a5903bca9c4"
      },
      "source": [
        "#13~14: 1(1),5(9)\n",
        "a=[9,1,6,4,5]\n",
        "x=a[0]\n",
        "y=a[0]\n",
        "for i in a:\n",
        "    if x>= i:\n",
        "        x=i\n",
        "    if y<=i:\n",
        "        y=i\n",
        "print(x)\n",
        "print(y)\n"
      ],
      "execution_count": 24,
      "outputs": [
        {
          "output_type": "stream",
          "text": [
            "1\n",
            "9\n"
          ],
          "name": "stdout"
        }
      ]
    },
    {
      "cell_type": "code",
      "metadata": {
        "id": "dfWNaoqnslSE",
        "colab_type": "code",
        "colab": {
          "base_uri": "https://localhost:8080/",
          "height": 1000
        },
        "outputId": "6d5fa8ad-408e-438b-a78e-5fe244fc6028"
      },
      "source": [
        "#15:2(6)\n",
        "num=[1,2,3,4,5,6,7,8,9]\n",
        "#c=1\n",
        "for i in num:\n",
        "    for k in num:\n",
        "      #print(\"%d 번째:\"%c)\n",
        "      #c+=1\n",
        "      print(\"%d\" %(i*k))\n"
      ],
      "execution_count": 31,
      "outputs": [
        {
          "output_type": "stream",
          "text": [
            "1\n",
            "2\n",
            "3\n",
            "4\n",
            "5\n",
            "6\n",
            "7\n",
            "8\n",
            "9\n",
            "2\n",
            "4\n",
            "6\n",
            "8\n",
            "10\n",
            "12\n",
            "14\n",
            "16\n",
            "18\n",
            "3\n",
            "6\n",
            "9\n",
            "12\n",
            "15\n",
            "18\n",
            "21\n",
            "24\n",
            "27\n",
            "4\n",
            "8\n",
            "12\n",
            "16\n",
            "20\n",
            "24\n",
            "28\n",
            "32\n",
            "36\n",
            "5\n",
            "10\n",
            "15\n",
            "20\n",
            "25\n",
            "30\n",
            "35\n",
            "40\n",
            "45\n",
            "6\n",
            "12\n",
            "18\n",
            "24\n",
            "30\n",
            "36\n",
            "42\n",
            "48\n",
            "54\n",
            "7\n",
            "14\n",
            "21\n",
            "28\n",
            "35\n",
            "42\n",
            "49\n",
            "56\n",
            "63\n",
            "8\n",
            "16\n",
            "24\n",
            "32\n",
            "40\n",
            "48\n",
            "56\n",
            "64\n",
            "72\n",
            "9\n",
            "18\n",
            "27\n",
            "36\n",
            "45\n",
            "54\n",
            "63\n",
            "72\n",
            "81\n"
          ],
          "name": "stdout"
        }
      ]
    },
    {
      "cell_type": "code",
      "metadata": {
        "id": "JLfdbdVNslt5",
        "colab_type": "code",
        "colab": {
          "base_uri": "https://localhost:8080/",
          "height": 35
        },
        "outputId": "1722bd2e-5ce1-410a-a3f6-c5b02b35c7ce"
      },
      "source": [
        "#16: 4(28)\n",
        "num=[]\n",
        "flag=0\n",
        "a=[2,3,4,5,6,7,8,9,10,11,12]\n",
        "for i in a:\n",
        "    for k in a:\n",
        "        if i%k==0 and i!=k:\n",
        "            flag=1\n",
        "    if flag==0:\n",
        "        num.append(i)\n",
        "    flag=0\n",
        "print(num)\n"
      ],
      "execution_count": 32,
      "outputs": [
        {
          "output_type": "stream",
          "text": [
            "[2, 3, 5, 7, 11]\n"
          ],
          "name": "stdout"
        }
      ]
    },
    {
      "cell_type": "code",
      "metadata": {
        "id": "y4dOEyQYsl74",
        "colab_type": "code",
        "colab": {
          "base_uri": "https://localhost:8080/",
          "height": 195
        },
        "outputId": "61314e0d-184c-4a31-9357-e30bed4144a0"
      },
      "source": [
        "#17:4(144)\n",
        "a=1\n",
        "b=1\n",
        "count=0\n",
        "while count<10:\n",
        "    c=a+b\n",
        "    print(c)\n",
        "    a=b\n",
        "    b=c\n",
        "    count=count+1\n"
      ],
      "execution_count": 33,
      "outputs": [
        {
          "output_type": "stream",
          "text": [
            "2\n",
            "3\n",
            "5\n",
            "8\n",
            "13\n",
            "21\n",
            "34\n",
            "55\n",
            "89\n",
            "144\n"
          ],
          "name": "stdout"
        }
      ]
    },
    {
      "cell_type": "code",
      "metadata": {
        "id": "TrnJg8fAuKAw",
        "colab_type": "code",
        "colab": {
          "base_uri": "https://localhost:8080/",
          "height": 35
        },
        "outputId": "620b3d9f-f9ad-4777-fd9d-7db0eaaf40d4"
      },
      "source": [
        "#18: 3(15)\n",
        "sum=0\n",
        "num=80\n",
        "if num>90:\n",
        "    sum=sum+1\n",
        "    if num>50:\n",
        "        sum=sum+5\n",
        "    else:\n",
        "        sum=sum+10\n",
        "if num>60:\n",
        "    sum=sum+15\n",
        "else:\n",
        "    if num>60:\n",
        "        sum=sum+25\n",
        "    else:\n",
        "        sum=sum+20\n",
        "print(sum)\n"
      ],
      "execution_count": 34,
      "outputs": [
        {
          "output_type": "stream",
          "text": [
            "15\n"
          ],
          "name": "stdout"
        }
      ]
    },
    {
      "cell_type": "code",
      "metadata": {
        "id": "zcMtdK3kuOhC",
        "colab_type": "code",
        "colab": {
          "base_uri": "https://localhost:8080/",
          "height": 35
        },
        "outputId": "61681a8b-9f86-4f07-c800-7f510baa4db4"
      },
      "source": [
        "#19:1(10)\n",
        "sum=0\n",
        "while sum<10:\n",
        "    sum=sum+4\n",
        "    while sum<5:\n",
        "        sum=sum+2\n",
        "print(sum)\n"
      ],
      "execution_count": 35,
      "outputs": [
        {
          "output_type": "stream",
          "text": [
            "10\n"
          ],
          "name": "stdout"
        }
      ]
    },
    {
      "cell_type": "code",
      "metadata": {
        "id": "Zz3bgIwHuOtP",
        "colab_type": "code",
        "colab": {
          "base_uri": "https://localhost:8080/",
          "height": 35
        },
        "outputId": "63be3188-f942-4cf9-9e13-211450ff96b9"
      },
      "source": [
        "#20: 3(12)\n",
        "a=2\n",
        "b=0\n",
        "count=0\n",
        "while count<5:\n",
        "    if a!=b:\n",
        "        b=a\n",
        "    else:\n",
        "        b=a+2\n",
        "        a=b+3\n",
        "    count=count+1\n",
        "print(b)\n"
      ],
      "execution_count": 37,
      "outputs": [
        {
          "output_type": "stream",
          "text": [
            "12\n"
          ],
          "name": "stdout"
        }
      ]
    }
  ]
}